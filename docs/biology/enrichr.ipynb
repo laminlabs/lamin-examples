{
 "cells": [
  {
   "attachments": {},
   "cell_type": "markdown",
   "metadata": {},
   "source": [
    "# Manage pathway ontology"
   ]
  },
  {
   "cell_type": "code",
   "execution_count": null,
   "metadata": {},
   "outputs": [],
   "source": [
    "import gseapy as gp\n",
    "import scanpy as sc\n",
    "from lamin_examples import datasets as ds\n",
    "import matplotlib.pyplot as plt"
   ]
  },
  {
   "attachments": {},
   "cell_type": "markdown",
   "metadata": {},
   "source": [
    "## Fetch `GO_Biological_Process_2023` pathways annotated with human genes through Enrichr"
   ]
  },
  {
   "cell_type": "code",
   "execution_count": null,
   "metadata": {},
   "outputs": [],
   "source": [
    "go_bp = gp.get_library(name=\"GO_Biological_Process_2023\", organism=\"Human\")\n",
    "\n",
    "# number of pathways\n",
    "len(go_bp)"
   ]
  },
  {
   "cell_type": "code",
   "execution_count": null,
   "metadata": {},
   "outputs": [],
   "source": [
    "go_bp[\"ATF6-mediated Unfolded Protein Response (GO:0036500)\"]"
   ]
  },
  {
   "attachments": {},
   "cell_type": "markdown",
   "metadata": {},
   "source": [
    "Parse out the ontology_id from keys, convert into the format of {ontology_id: (name, genes)}"
   ]
  },
  {
   "cell_type": "code",
   "execution_count": null,
   "metadata": {},
   "outputs": [],
   "source": [
    "def parse_ontology_id_from_keys(key):\n",
    "    \"\"\"Parse out the ontology id.\n",
    "\n",
    "    \"ATF6-mediated Unfolded Protein Response (GO:0036500)\" -> (\"GO:0036500\", \"ATF6-mediated Unfolded Protein Response\")\n",
    "    \"\"\"\n",
    "    id = key.split(\" \")[-1].replace(\"(\", \"\").replace(\")\", \"\")\n",
    "    name = key.replace(f\" ({id})\", \"\")\n",
    "    return (id, name)"
   ]
  },
  {
   "cell_type": "code",
   "execution_count": null,
   "metadata": {},
   "outputs": [],
   "source": [
    "go_bp_parsed = {}\n",
    "\n",
    "for key, genes in go_bp.items():\n",
    "    id, name = parse_ontology_id_from_keys(key)\n",
    "    go_bp_parsed[id] = (name, genes)"
   ]
  },
  {
   "cell_type": "code",
   "execution_count": null,
   "metadata": {},
   "outputs": [],
   "source": [
    "go_bp_parsed[\"GO:0036500\"]"
   ]
  },
  {
   "attachments": {},
   "cell_type": "markdown",
   "metadata": {},
   "source": [
    "## Register pathway ontology in LaminDB"
   ]
  },
  {
   "attachments": {},
   "cell_type": "markdown",
   "metadata": {},
   "source": [
    "Make sure you create or load a LaminDB instance before running the rest part of this notebook!"
   ]
  },
  {
   "cell_type": "code",
   "execution_count": null,
   "metadata": {
    "tags": [
     "hide-cell",
     "hide-output"
    ]
   },
   "outputs": [],
   "source": [
    "# A lamindb instance containing bionty schema (skip if you already loaded your instance)\n",
    "\n",
    "!lamin init --storage enrichr --schema bionty"
   ]
  },
  {
   "cell_type": "code",
   "execution_count": null,
   "metadata": {},
   "outputs": [],
   "source": [
    "import lamindb as ln\n",
    "from lnschema_bionty import Pathway, Gene\n",
    "\n",
    "pathway_bionty = Pathway.bionty()  # equals to bionty.Pathway()"
   ]
  },
  {
   "cell_type": "code",
   "execution_count": null,
   "metadata": {},
   "outputs": [],
   "source": [
    "# Check which ontology of Pathway is being used in bionty\n",
    "\n",
    "pathway_bionty"
   ]
  },
  {
   "attachments": {},
   "cell_type": "markdown",
   "metadata": {},
   "source": [
    "Next, we register all the pathways in LaminDB and link them with genes."
   ]
  },
  {
   "attachments": {},
   "cell_type": "markdown",
   "metadata": {},
   "source": [
    "### Register pathway terms"
   ]
  },
  {
   "cell_type": "code",
   "execution_count": null,
   "metadata": {},
   "outputs": [],
   "source": [
    "pathway_records = ln.parse(go_bp_parsed.keys(), Pathway.ontology_id)"
   ]
  },
  {
   "cell_type": "code",
   "execution_count": null,
   "metadata": {},
   "outputs": [],
   "source": [
    "pathway_records[:3]"
   ]
  },
  {
   "cell_type": "code",
   "execution_count": null,
   "metadata": {},
   "outputs": [],
   "source": [
    "ln.save(pathway_records);"
   ]
  },
  {
   "attachments": {},
   "cell_type": "markdown",
   "metadata": {},
   "source": [
    "### Register gene symbols"
   ]
  },
  {
   "cell_type": "code",
   "execution_count": null,
   "metadata": {},
   "outputs": [],
   "source": [
    "all_genes = {g for genes in go_bp.values() for g in genes}\n",
    "\n",
    "len(all_genes)"
   ]
  },
  {
   "cell_type": "code",
   "execution_count": null,
   "metadata": {},
   "outputs": [],
   "source": [
    "gene_records = ln.parse(all_genes, Gene.symbol)"
   ]
  },
  {
   "cell_type": "code",
   "execution_count": null,
   "metadata": {},
   "outputs": [],
   "source": [
    "gene_records[:3]"
   ]
  },
  {
   "cell_type": "code",
   "execution_count": null,
   "metadata": {},
   "outputs": [],
   "source": [
    "ln.save(gene_records);"
   ]
  },
  {
   "attachments": {},
   "cell_type": "markdown",
   "metadata": {},
   "source": [
    "### Link pathway to genes"
   ]
  },
  {
   "cell_type": "code",
   "execution_count": null,
   "metadata": {},
   "outputs": [],
   "source": [
    "gene_records_ids = {record.symbol: record for record in gene_records}"
   ]
  },
  {
   "cell_type": "code",
   "execution_count": null,
   "metadata": {},
   "outputs": [],
   "source": [
    "for pathway_record in pathway_records:\n",
    "    pathway_genes = go_bp_parsed.get(pathway_record.ontology_id)[1]\n",
    "    pathway_genes_records = [gene_records_ids.get(gene) for gene in pathway_genes]\n",
    "    pathway_record.genes.set(pathway_genes_records)"
   ]
  },
  {
   "attachments": {},
   "cell_type": "markdown",
   "metadata": {},
   "source": [
    "Now genes are linked to pathways:"
   ]
  },
  {
   "cell_type": "code",
   "execution_count": null,
   "metadata": {},
   "outputs": [],
   "source": [
    "pathway_record.genes.values_list(\"symbol\", flat=True)"
   ]
  },
  {
   "attachments": {},
   "cell_type": "markdown",
   "metadata": {},
   "source": [
    "## A interferon-beta treated dataset\n",
    "\n",
    "A PBMCs dataset split into a stimulated and control group. The stimulated group was treated with interferon beta.\n",
    "\n",
    "From \"SeuratData::ifnb\""
   ]
  },
  {
   "cell_type": "code",
   "execution_count": null,
   "metadata": {},
   "outputs": [],
   "source": [
    "adata = ds.anndata_seurat_ifnb()\n",
    "\n",
    "adata"
   ]
  },
  {
   "cell_type": "code",
   "execution_count": null,
   "metadata": {},
   "outputs": [],
   "source": [
    "adata.obs[\"seurat_annotations\"].value_counts()"
   ]
  },
  {
   "attachments": {},
   "cell_type": "markdown",
   "metadata": {},
   "source": [
    "Subset to \"B Activated\" cells:"
   ]
  },
  {
   "cell_type": "code",
   "execution_count": null,
   "metadata": {},
   "outputs": [],
   "source": [
    "adata_ba = adata[adata.obs.seurat_annotations == \"B Activated\"].copy()\n",
    "adata_ba"
   ]
  },
  {
   "attachments": {},
   "cell_type": "markdown",
   "metadata": {},
   "source": [
    "## Over-representation analysis by Enrichr\n",
    "\n",
    "Based on: https://gseapy.readthedocs.io/en/master/singlecell_example.html"
   ]
  },
  {
   "cell_type": "code",
   "execution_count": null,
   "metadata": {},
   "outputs": [],
   "source": [
    "# compute differentially expressed genes\n",
    "sc.tl.rank_genes_groups(\n",
    "    adata_ba,\n",
    "    groupby=\"stim\",\n",
    "    use_raw=False,\n",
    "    method=\"wilcoxon\",\n",
    "    groups=[\"STIM\"],\n",
    "    reference=\"CTRL\",\n",
    ")\n",
    "\n",
    "rank_genes_groups_df = sc.get.rank_genes_groups_df(adata_ba, \"STIM\")"
   ]
  },
  {
   "cell_type": "code",
   "execution_count": null,
   "metadata": {},
   "outputs": [],
   "source": [
    "rank_genes_groups_df.head()"
   ]
  },
  {
   "attachments": {},
   "cell_type": "markdown",
   "metadata": {},
   "source": [
    "Filter out up/down-regulated differentially expressed gene sets:"
   ]
  },
  {
   "cell_type": "code",
   "execution_count": null,
   "metadata": {},
   "outputs": [],
   "source": [
    "degs_up = rank_genes_groups_df[\n",
    "    (rank_genes_groups_df[\"logfoldchanges\"] > 0)\n",
    "    & (rank_genes_groups_df[\"pvals_adj\"] < 0.05)\n",
    "]\n",
    "degs_dw = rank_genes_groups_df[\n",
    "    (rank_genes_groups_df[\"logfoldchanges\"] < 0)\n",
    "    & (rank_genes_groups_df[\"pvals_adj\"] < 0.05)\n",
    "]"
   ]
  },
  {
   "cell_type": "code",
   "execution_count": null,
   "metadata": {},
   "outputs": [],
   "source": [
    "degs_up.shape, degs_dw.shape"
   ]
  },
  {
   "attachments": {},
   "cell_type": "markdown",
   "metadata": {},
   "source": [
    "Run pathway enrichment analysis on DEGs and plot top 10 pathways:"
   ]
  },
  {
   "cell_type": "code",
   "execution_count": null,
   "metadata": {},
   "outputs": [],
   "source": [
    "enr_up = gp.enrichr(degs_up.names, gene_sets=\"GO_Biological_Process_2023\").res2d\n",
    "\n",
    "gp.dotplot(enr_up, figsize=(2, 3), title=\"Up\", cmap=plt.cm.autumn_r);"
   ]
  },
  {
   "cell_type": "code",
   "execution_count": null,
   "metadata": {},
   "outputs": [],
   "source": [
    "enr_dw = gp.enrichr(degs_dw.names, gene_sets=\"GO_Biological_Process_2023\").res2d\n",
    "\n",
    "gp.dotplot(enr_dw, figsize=(2, 3), title=\"Down\", cmap=plt.cm.winter_r, size=10);"
   ]
  },
  {
   "attachments": {},
   "cell_type": "markdown",
   "metadata": {},
   "source": [
    "## Track datasets with pathways in LaminDB"
   ]
  },
  {
   "attachments": {},
   "cell_type": "markdown",
   "metadata": {},
   "source": [
    "Let's enable tracking of the current notebook as the transform of this file:"
   ]
  },
  {
   "cell_type": "code",
   "execution_count": null,
   "metadata": {},
   "outputs": [],
   "source": [
    "ln.track()"
   ]
  },
  {
   "cell_type": "code",
   "execution_count": null,
   "metadata": {},
   "outputs": [],
   "source": [
    "file = ln.File(adata_ba, name=\"seurat_ifnb_activated_Bcells\")"
   ]
  },
  {
   "cell_type": "code",
   "execution_count": null,
   "metadata": {},
   "outputs": [],
   "source": [
    "ln.save(file)"
   ]
  },
  {
   "attachments": {},
   "cell_type": "markdown",
   "metadata": {},
   "source": [
    "Register featuresets for degs_up and degs_dw:"
   ]
  },
  {
   "cell_type": "code",
   "execution_count": null,
   "metadata": {},
   "outputs": [],
   "source": [
    "degs_up_featureset = ln.FeatureSet.from_iterable(degs_up.names, Gene.symbol)"
   ]
  },
  {
   "cell_type": "code",
   "execution_count": null,
   "metadata": {},
   "outputs": [],
   "source": [
    "degs_dw_featureset = ln.FeatureSet.from_iterable(degs_dw.names, Gene.symbol)"
   ]
  },
  {
   "cell_type": "code",
   "execution_count": null,
   "metadata": {},
   "outputs": [],
   "source": [
    "ln.save(degs_up_featureset)\n",
    "ln.save(degs_dw_featureset);"
   ]
  },
  {
   "attachments": {},
   "cell_type": "markdown",
   "metadata": {},
   "source": [
    "Link the top 10 pathways to the DEGs:"
   ]
  },
  {
   "cell_type": "code",
   "execution_count": null,
   "metadata": {},
   "outputs": [],
   "source": [
    "# get ontology ids for the top 10 pathways\n",
    "enr_up_top10 = [i[0] for i in enr_up.head(10).Term.apply(parse_ontology_id_from_keys)]\n",
    "enr_dw_top10 = [i[0] for i in enr_dw.head(10).Term.apply(parse_ontology_id_from_keys)]\n",
    "\n",
    "# get pathway records\n",
    "enr_up_top10_pathways = ln.parse(enr_up_top10, Pathway.ontology_id)\n",
    "enr_dw_top10_pathways = ln.parse(enr_dw_top10, Pathway.ontology_id)"
   ]
  },
  {
   "cell_type": "code",
   "execution_count": null,
   "metadata": {},
   "outputs": [],
   "source": [
    "degs_up_featureset.pathways.set(enr_up_top10_pathways)\n",
    "degs_dw_featureset.pathways.set(enr_dw_top10_pathways)"
   ]
  },
  {
   "cell_type": "code",
   "execution_count": null,
   "metadata": {},
   "outputs": [],
   "source": [
    "degs_up_featureset.pathways.values_list(\"name\", flat=True)"
   ]
  },
  {
   "attachments": {},
   "cell_type": "markdown",
   "metadata": {},
   "source": [
    "Link the file to features:"
   ]
  },
  {
   "cell_type": "code",
   "execution_count": null,
   "metadata": {},
   "outputs": [],
   "source": [
    "file.featuresets.add(degs_up_featureset)\n",
    "file.featuresets.add(degs_dw_featureset)"
   ]
  },
  {
   "attachments": {},
   "cell_type": "markdown",
   "metadata": {},
   "source": [
    "Query a pathway:"
   ]
  },
  {
   "cell_type": "code",
   "execution_count": null,
   "metadata": {},
   "outputs": [],
   "source": [
    "ln.select(Pathway).filter(name__contains=\"interferon-beta\").df()"
   ]
  },
  {
   "attachments": {},
   "cell_type": "markdown",
   "metadata": {},
   "source": [
    "Query pathways from a gene:"
   ]
  },
  {
   "cell_type": "code",
   "execution_count": null,
   "metadata": {},
   "outputs": [],
   "source": [
    "ln.select(Pathway).filter(genes__symbol=\"KIR2DL1\").df()"
   ]
  },
  {
   "attachments": {},
   "cell_type": "markdown",
   "metadata": {},
   "source": [
    "Query files from a pathway:"
   ]
  },
  {
   "cell_type": "code",
   "execution_count": null,
   "metadata": {},
   "outputs": [],
   "source": [
    "ln.select(ln.File).filter(\n",
    "    featuresets__pathways__name__icontains=\"interferon-beta\"\n",
    ").first()"
   ]
  },
  {
   "attachments": {},
   "cell_type": "markdown",
   "metadata": {},
   "source": [
    "Query featuresets from a pathway (from which geneset was this pathway computed?):"
   ]
  },
  {
   "cell_type": "code",
   "execution_count": null,
   "metadata": {},
   "outputs": [],
   "source": [
    "pathway = ln.select(Pathway, ontology_id=\"GO:0035456\").one()\n",
    "\n",
    "pathway"
   ]
  },
  {
   "cell_type": "code",
   "execution_count": null,
   "metadata": {},
   "outputs": [],
   "source": [
    "degs = ln.select(ln.FeatureSet).filter(pathways__ontology_id=pathway.ontology_id).one()"
   ]
  },
  {
   "attachments": {},
   "cell_type": "markdown",
   "metadata": {},
   "source": [
    "Now we can get the list of genes that are differentially expressed and belong to this pathway:"
   ]
  },
  {
   "cell_type": "code",
   "execution_count": null,
   "metadata": {},
   "outputs": [],
   "source": [
    "pathway_genes = set(pathway.genes.values_list(\"symbol\", flat=True))\n",
    "degs_genes = set(degs.genes.values_list(\"symbol\", flat=True))"
   ]
  },
  {
   "cell_type": "code",
   "execution_count": null,
   "metadata": {},
   "outputs": [],
   "source": [
    "pathway_genes.intersection(degs_genes)"
   ]
  }
 ],
 "metadata": {
  "kernelspec": {
   "display_name": "py39",
   "language": "python",
   "name": "python3"
  },
  "language_info": {
   "codemirror_mode": {
    "name": "ipython",
    "version": 3
   },
   "file_extension": ".py",
   "mimetype": "text/x-python",
   "name": "python",
   "nbconvert_exporter": "python",
   "pygments_lexer": "ipython3",
   "version": "3.9.16"
  },
  "nbproject": {
   "id": "6oxEIEduvo6w",
   "parent": null,
   "pypackage": null,
   "time_init": "2023-06-02T11:39:19.752181+00:00",
   "user_handle": "sunnyosun",
   "user_id": "kmvZDIX9",
   "user_name": "Sunny Sun",
   "version": "0"
  }
 },
 "nbformat": 4,
 "nbformat_minor": 2
}
