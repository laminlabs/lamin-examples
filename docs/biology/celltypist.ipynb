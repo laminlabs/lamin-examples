{
 "cells": [
  {
   "attachments": {},
   "cell_type": "markdown",
   "metadata": {},
   "source": [
    "# Manage a cell type registry"
   ]
  },
  {
   "attachments": {},
   "cell_type": "markdown",
   "metadata": {},
   "source": [
    "## Background"
   ]
  },
  {
   "attachments": {},
   "cell_type": "markdown",
   "metadata": {},
   "source": [
    "Cell types are categories that classify cells based on characteristics and behaviors, including gene expression patterns, morphology, and functional properties. This classification enables researchers to explore cellular diversity, comprehend cellular heterogeneity, and gain valuable insights into the specific roles and interactions of different cell types."
   ]
  },
  {
   "attachments": {},
   "cell_type": "markdown",
   "metadata": {},
   "source": [
    "In the dynamic world of biotech and pharmaceutical research, where numerous single-cell datasets are generated, the ability to seamlessly query and integrate datasets across different internal groups based on, for example, specific cell types proves exceptionally valuable."
   ]
  },
  {
   "attachments": {},
   "cell_type": "markdown",
   "metadata": {},
   "source": [
    "In this notebook we are creating a cell type registry for all cell types that [CellTypist](https://www.celltypist.org) supports. CellTypist is a powerful computational tool for cell type classification in single-cell RNA sequencing data. It assigns cell types based on gene expression profiles within heterogeneous cell populations. We will further use CellTypist to classify cell types of a previously unannotated dataset and ingest the dataset with Lamin. Finally, we will demonstrate how to fetch datasets with cell type queries using Lamin."
   ]
  },
  {
   "attachments": {},
   "cell_type": "markdown",
   "metadata": {},
   "source": [
    "## Setup"
   ]
  },
  {
   "attachments": {},
   "cell_type": "markdown",
   "metadata": {},
   "source": [
    "```{warning}\n",
    "\n",
    "Please ensure that you have created or loaded a LaminDB instance before running the remaining part of this notebook!\n",
    "```"
   ]
  },
  {
   "cell_type": "code",
   "execution_count": null,
   "metadata": {
    "tags": [
     "hide-cell"
    ]
   },
   "outputs": [],
   "source": [
    "# A lamindb instance containing Bionty schema (skip if you already loaded your instance)\n",
    "import lamindb as ln\n",
    "\n",
    "ln.setup.init(storage=\"./celltypist\", schema=\"bionty\")"
   ]
  },
  {
   "cell_type": "code",
   "execution_count": null,
   "metadata": {
    "tags": [
     "hide-cell"
    ]
   },
   "outputs": [],
   "source": [
    "# Filter warnings from celltypist\n",
    "import warnings\n",
    "\n",
    "warnings.filterwarnings(\"ignore\", message=\".*The 'nopython' keyword.*\")"
   ]
  },
  {
   "cell_type": "code",
   "execution_count": null,
   "metadata": {},
   "outputs": [],
   "source": [
    "import lamindb as ln\n",
    "import lnschema_bionty as lb\n",
    "\n",
    "import celltypist\n",
    "import pandas as pd\n",
    "\n",
    "ln.settings.verbosity = 3  # show hints"
   ]
  },
  {
   "cell_type": "code",
   "execution_count": null,
   "metadata": {},
   "outputs": [],
   "source": [
    "# public Cell Ontology reference\n",
    "\n",
    "celltype_bt = lb.CellType.bionty()  # equals to bionty.CellType()\n",
    "celltype_bt"
   ]
  },
  {
   "attachments": {},
   "cell_type": "markdown",
   "metadata": {},
   "source": [
    "Next we import `lamindb` and `lnschema_bt` which enables us to connect [Bionty](https://github.com/laminlabs/bionty) with [LaminDB](https://github.com/laminlabs/lamindb). This enables us to map cell types against ontologies and create SQL records within LaminDB to eventually make them queryable."
   ]
  },
  {
   "attachments": {},
   "cell_type": "markdown",
   "metadata": {},
   "source": [
    "## Create an in-house CellType registry of CellTypist terms based on the public Cell Ontology"
   ]
  },
  {
   "attachments": {},
   "cell_type": "markdown",
   "metadata": {},
   "source": [
    "### Fetching CellTypists immune cell encyclopedia"
   ]
  },
  {
   "attachments": {},
   "cell_type": "markdown",
   "metadata": {},
   "source": [
    "As a first step we will read in CellTypist's immune cell encyclopedia. It provides mapped `ontology_id` of Cell Ontology (cl) for the majority of terms."
   ]
  },
  {
   "cell_type": "code",
   "execution_count": null,
   "metadata": {},
   "outputs": [],
   "source": [
    "celltypist_df = pd.read_excel(\n",
    "    \"https://github.com/Teichlab/celltypist_wiki/raw/main/atlases/Pan_Immune_CellTypist/v2/tables/Basic_celltype_information.xlsx\"\n",
    ")\n",
    "celltypist_df"
   ]
  },
  {
   "attachments": {},
   "cell_type": "markdown",
   "metadata": {},
   "source": [
    "And we observed that certain \"Cell Ontology ID\" is associated with multiple \"Low-hierarchy cell types\":"
   ]
  },
  {
   "cell_type": "code",
   "execution_count": null,
   "metadata": {},
   "outputs": [],
   "source": [
    "celltypist_df.set_index([\"Cell Ontology ID\", \"Low-hierarchy cell types\"]).head(10)"
   ]
  },
  {
   "attachments": {},
   "cell_type": "markdown",
   "metadata": {},
   "source": [
    "CellTypist uses different hierarchies of cell types (`High-hierarchy cell types` and `Low-hierarchy cell types`). By taking the intersection of both levels we learn that 4 terms of the `High-hierarchy cell types` are not mapped to Cell Ontology:"
   ]
  },
  {
   "cell_type": "code",
   "execution_count": null,
   "metadata": {},
   "outputs": [],
   "source": [
    "high_terms = celltypist_df[\"High-hierarchy cell types\"].unique()\n",
    "low_terms = celltypist_df[\"Low-hierarchy cell types\"].unique()\n",
    "\n",
    "high_terms_umapped = set(high_terms).difference(low_terms)\n",
    "high_terms_umapped"
   ]
  },
  {
   "attachments": {},
   "cell_type": "markdown",
   "metadata": {},
   "source": [
    "### Check compliance with the public Cell Ontology\n",
    "\n",
    "We want to ensure that all of our cell types of any dataset are eventually mapped against the Cell Ontology and queryable. Let's first do a few inspections and see how well they align with each other"
   ]
  },
  {
   "attachments": {},
   "cell_type": "markdown",
   "metadata": {},
   "source": [
    "All Celltypist labeled ontology IDs are mappable to the public Cell Ontology:"
   ]
  },
  {
   "cell_type": "code",
   "execution_count": null,
   "metadata": {},
   "outputs": [],
   "source": [
    "celltype_bt.inspect(celltypist_df[\"Cell Ontology ID\"], celltype_bt.ontology_id);"
   ]
  },
  {
   "attachments": {},
   "cell_type": "markdown",
   "metadata": {},
   "source": [
    "However, when inspecting the names, most of them don't match:"
   ]
  },
  {
   "cell_type": "code",
   "execution_count": null,
   "metadata": {},
   "outputs": [],
   "source": [
    "celltype_bt.inspect(celltypist_df[\"Low-hierarchy cell types\"], celltype_bt.name);"
   ]
  },
  {
   "attachments": {},
   "cell_type": "markdown",
   "metadata": {},
   "source": [
    "After doing a search, we found a lot of terms that named in plural form in Celltypist are singular form in Cell Ontology: "
   ]
  },
  {
   "cell_type": "code",
   "execution_count": null,
   "metadata": {},
   "outputs": [],
   "source": [
    "celltypist_df[\"Low-hierarchy cell types\"][0]"
   ]
  },
  {
   "cell_type": "code",
   "execution_count": null,
   "metadata": {},
   "outputs": [],
   "source": [
    "celltype_bt.search(celltypist_df[\"Low-hierarchy cell types\"][0], top_hit=True)"
   ]
  },
  {
   "attachments": {},
   "cell_type": "markdown",
   "metadata": {},
   "source": [
    "Let's try to strip out the `s` and now more names are mappable:"
   ]
  },
  {
   "cell_type": "code",
   "execution_count": null,
   "metadata": {},
   "outputs": [],
   "source": [
    "celltype_bt.inspect(\n",
    "    [i.rstrip(\"s\") for i in celltypist_df[\"Low-hierarchy cell types\"]],\n",
    "    celltype_bt.name,\n",
    ");"
   ]
  },
  {
   "attachments": {},
   "cell_type": "markdown",
   "metadata": {},
   "source": [
    "### Register CellTypist cell type encyclopedia in LaminDB"
   ]
  },
  {
   "attachments": {},
   "cell_type": "markdown",
   "metadata": {},
   "source": [
    "Let's first add the \"High-hierarchy cell types\" as a column \"parent\":"
   ]
  },
  {
   "cell_type": "code",
   "execution_count": null,
   "metadata": {},
   "outputs": [],
   "source": [
    "celltypist_df[\"parent\"] = celltypist_df.pop(\"High-hierarchy cell types\")\n",
    "\n",
    "# if Hign and Low terms are the same, no parents\n",
    "celltypist_df.loc[\n",
    "    (celltypist_df[\"parent\"] == celltypist_df[\"Low-hierarchy cell types\"]), \"parent\"\n",
    "] = None\n",
    "\n",
    "# rename columns, drop markers\n",
    "celltypist_df.drop(columns=[\"Curated markers\"], inplace=True)\n",
    "celltypist_df.rename(\n",
    "    columns={\"Low-hierarchy cell types\": \"name\", \"Cell Ontology ID\": \"ontology_id\"},\n",
    "    inplace=True,\n",
    ")\n",
    "celltypist_df.columns = celltypist_df.columns.str.lower()"
   ]
  },
  {
   "cell_type": "code",
   "execution_count": null,
   "metadata": {},
   "outputs": [],
   "source": [
    "celltypist_df.head(2)"
   ]
  },
  {
   "cell_type": "code",
   "execution_count": null,
   "metadata": {},
   "outputs": [],
   "source": [
    "public_records = lb.CellType.from_values(\n",
    "    celltypist_df.ontology_id, lb.CellType.ontology_id\n",
    ")"
   ]
  },
  {
   "cell_type": "code",
   "execution_count": null,
   "metadata": {},
   "outputs": [],
   "source": [
    "# use ontology_id as keys\n",
    "\n",
    "public_records_dict = {r.ontology_id: r for r in public_records}"
   ]
  },
  {
   "cell_type": "code",
   "execution_count": null,
   "metadata": {},
   "outputs": [],
   "source": [
    "records_names = {}\n",
    "\n",
    "for _, row in celltypist_df.iterrows():\n",
    "    name = row[\"name\"]\n",
    "    ontology_id = row[\"ontology_id\"]\n",
    "    public_record = public_records_dict[ontology_id]\n",
    "\n",
    "    # if both name and ontology_id match public record, use public record\n",
    "    if name.lower() == public_record.name.lower():\n",
    "        records_names[name] = public_record\n",
    "        continue\n",
    "    else:  # when ontology_id matches the public record and name doesn't match\n",
    "        # if singular form of the Celltypist name matches public name\n",
    "        if name.lower().rstrip(\"s\") == public_record.name.lower():\n",
    "            # add the Celltypist name to the synonyms of the public ontology record\n",
    "            public_record.add_synonym(name)\n",
    "            records_names[name] = public_record\n",
    "            continue\n",
    "        if public_record.synonyms is not None:\n",
    "            synonyms = [s.lower() for s in public_record.synonyms.split(\"|\")]\n",
    "            # if any of the public matches celltypist name\n",
    "            if any(\n",
    "                [\n",
    "                    i.lower() in {name.lower(), name.lower().rstrip(\"s\")}\n",
    "                    for i in synonyms\n",
    "                ]\n",
    "            ):\n",
    "                # add the Celltypist name to the synonyms of the public ontology record\n",
    "                public_record.add_synonym(name)\n",
    "                records_names[name] = public_record\n",
    "                continue\n",
    "\n",
    "        # create a record only based on Celltypist metadata\n",
    "        records_names[name] = lb.CellType(\n",
    "            name=name, ontology_id=ontology_id, description=row.description\n",
    "        )"
   ]
  },
  {
   "attachments": {},
   "cell_type": "markdown",
   "metadata": {},
   "source": [
    "You can see certain records are created by adding the Celltypist name to the synonyms of the public record:"
   ]
  },
  {
   "cell_type": "code",
   "execution_count": null,
   "metadata": {},
   "outputs": [],
   "source": [
    "records_names[\"GMP\"]"
   ]
  },
  {
   "attachments": {},
   "cell_type": "markdown",
   "metadata": {},
   "source": [
    "Other records are created based on Celltypist metadata:"
   ]
  },
  {
   "cell_type": "code",
   "execution_count": null,
   "metadata": {},
   "outputs": [],
   "source": [
    "records_names[\"Age-associated B cells\"]"
   ]
  },
  {
   "attachments": {},
   "cell_type": "markdown",
   "metadata": {},
   "source": [
    "Let's save them to our database (you will notice parents records from public ontology is also saved):"
   ]
  },
  {
   "cell_type": "code",
   "execution_count": null,
   "metadata": {},
   "outputs": [],
   "source": [
    "records = list(records_names.values())\n",
    "\n",
    "ln.save(records)"
   ]
  },
  {
   "attachments": {},
   "cell_type": "markdown",
   "metadata": {},
   "source": [
    "### Add parent-child relationship of the records from Celltypist"
   ]
  },
  {
   "attachments": {},
   "cell_type": "markdown",
   "metadata": {},
   "source": [
    "We still need to add the renaming 4 High hierarchy terms:"
   ]
  },
  {
   "cell_type": "code",
   "execution_count": null,
   "metadata": {},
   "outputs": [],
   "source": [
    "high_terms_umapped"
   ]
  },
  {
   "attachments": {},
   "cell_type": "markdown",
   "metadata": {},
   "source": [
    "Other than \"T cells\", we didn't find good matches in the public ontology."
   ]
  },
  {
   "cell_type": "code",
   "execution_count": null,
   "metadata": {},
   "outputs": [],
   "source": [
    "search_results = []\n",
    "for term in high_terms_umapped:\n",
    "    search_results.append(celltype_bt.search(term, top_hit=True))\n",
    "\n",
    "search_results"
   ]
  },
  {
   "attachments": {},
   "cell_type": "markdown",
   "metadata": {},
   "source": [
    "So we decided to:\n",
    "\n",
    "- Add the \"T cells\" to the synonyms of the public \"T cell\" record\n",
    "- Create the rest 3 terms only using their names"
   ]
  },
  {
   "cell_type": "code",
   "execution_count": null,
   "metadata": {},
   "outputs": [],
   "source": [
    "for name in high_terms_umapped:\n",
    "    if name == \"T cells\":\n",
    "        record = lb.CellType.from_bt(name=\"T cell\")\n",
    "        record.add_synonym(name)\n",
    "        record.save()\n",
    "    else:\n",
    "        record = lb.CellType(name=name)\n",
    "        record.save()\n",
    "    records_names[name] = record"
   ]
  },
  {
   "attachments": {},
   "cell_type": "markdown",
   "metadata": {},
   "source": [
    "Now let's add the parent records:"
   ]
  },
  {
   "cell_type": "code",
   "execution_count": null,
   "metadata": {},
   "outputs": [],
   "source": [
    "for _, row in celltypist_df.iterrows():\n",
    "    record = records_names[row[\"name\"]]\n",
    "    if row[\"parent\"] is not None:\n",
    "        parent_record = records_names[row[\"parent\"]]\n",
    "        record.parents.add(parent_record)"
   ]
  },
  {
   "attachments": {},
   "cell_type": "markdown",
   "metadata": {},
   "source": [
    "## Access the in-house CellType registry"
   ]
  },
  {
   "attachments": {},
   "cell_type": "markdown",
   "metadata": {},
   "source": [
    "The previously added CellTypist ontology registry is now available in LaminDB.\n",
    "To retrieve the full ontology table as a Pandas DataFrame we can use {func}`docs:lamindb.select`:"
   ]
  },
  {
   "cell_type": "code",
   "execution_count": null,
   "metadata": {},
   "outputs": [],
   "source": [
    "lb.CellType.select().df()"
   ]
  },
  {
   "attachments": {},
   "cell_type": "markdown",
   "metadata": {},
   "source": [
    "This enables us to look for cell types by creating a lookup object from our new `CellType` registry."
   ]
  },
  {
   "cell_type": "code",
   "execution_count": null,
   "metadata": {},
   "outputs": [],
   "source": [
    "db_lookup = lb.CellType.lookup()"
   ]
  },
  {
   "cell_type": "code",
   "execution_count": null,
   "metadata": {},
   "outputs": [],
   "source": [
    "db_lookup.memory_b_cell"
   ]
  },
  {
   "attachments": {},
   "cell_type": "markdown",
   "metadata": {},
   "source": [
    "Access parents of a record:"
   ]
  },
  {
   "cell_type": "code",
   "execution_count": null,
   "metadata": {},
   "outputs": [],
   "source": [
    "db_lookup.memory_b_cell.parents.all()"
   ]
  },
  {
   "cell_type": "code",
   "execution_count": null,
   "metadata": {},
   "outputs": [],
   "source": [
    "db_lookup.memory_b_cell.parents.all()[0].parents.all()"
   ]
  },
  {
   "attachments": {},
   "cell_type": "markdown",
   "metadata": {
    "tags": []
   },
   "source": [
    "## Annotate a dataset with cell types using CellTypist"
   ]
  },
  {
   "attachments": {},
   "cell_type": "markdown",
   "metadata": {},
   "source": [
    "### Annotate cell types predicted with CellTypist"
   ]
  },
  {
   "attachments": {},
   "cell_type": "markdown",
   "metadata": {},
   "source": [
    "We now demonstrate how simple it is to predict and add cell types to LaminDB with CellTypist.\n",
    "Our dataset of choice is a simple sample dataset together with a sample model."
   ]
  },
  {
   "cell_type": "code",
   "execution_count": null,
   "metadata": {},
   "outputs": [],
   "source": [
    "input_file = celltypist.samples.get_sample_csv()\n",
    "input_file"
   ]
  },
  {
   "cell_type": "code",
   "execution_count": null,
   "metadata": {},
   "outputs": [],
   "source": [
    "predictions = celltypist.annotate(\n",
    "    input_file, model=\"Immune_All_Low.pkl\", majority_voting=True\n",
    ")"
   ]
  },
  {
   "attachments": {},
   "cell_type": "markdown",
   "metadata": {},
   "source": [
    "Now that we've predicted all cell types we create an [Anndata](https://anndata.readthedocs.io/en/latest) object that we will eventually track with LaminDB."
   ]
  },
  {
   "cell_type": "code",
   "execution_count": null,
   "metadata": {},
   "outputs": [],
   "source": [
    "adata_annotated = predictions.to_adata()"
   ]
  },
  {
   "cell_type": "code",
   "execution_count": null,
   "metadata": {},
   "outputs": [],
   "source": [
    "adata_annotated.obs"
   ]
  },
  {
   "attachments": {},
   "cell_type": "markdown",
   "metadata": {},
   "source": [
    "Create cell type records using the \"predicted_labels\" as names:"
   ]
  },
  {
   "cell_type": "code",
   "execution_count": null,
   "metadata": {},
   "outputs": [],
   "source": [
    "celltypes = lb.CellType.from_values(\n",
    "    adata_annotated.obs.predicted_labels, lb.CellType.name\n",
    ")"
   ]
  },
  {
   "cell_type": "code",
   "execution_count": null,
   "metadata": {},
   "outputs": [],
   "source": [
    "celltypes[:2]"
   ]
  },
  {
   "attachments": {},
   "cell_type": "markdown",
   "metadata": {},
   "source": [
    "### Track the annotated dataset in LaminDB"
   ]
  },
  {
   "attachments": {},
   "cell_type": "markdown",
   "metadata": {},
   "source": [
    "Let's enable tracking of the current notebook as the transform of this file using {func}`docs:lamindb.track`:"
   ]
  },
  {
   "cell_type": "code",
   "execution_count": null,
   "metadata": {},
   "outputs": [],
   "source": [
    "ln.track()"
   ]
  },
  {
   "attachments": {},
   "cell_type": "markdown",
   "metadata": {},
   "source": [
    "Create a file record using {func}`docs:lamindb.File` of the AnnData object.\n",
    "We further define a name of the dataset for clarity that can also be queried for."
   ]
  },
  {
   "cell_type": "code",
   "execution_count": null,
   "metadata": {},
   "outputs": [],
   "source": [
    "file_annotated = ln.File(adata_annotated, key=\"sample_cell_by_gene-celltypist.h5ad\")"
   ]
  },
  {
   "cell_type": "code",
   "execution_count": null,
   "metadata": {},
   "outputs": [],
   "source": [
    "ln.save(file_annotated)"
   ]
  },
  {
   "attachments": {},
   "cell_type": "markdown",
   "metadata": {},
   "source": [
    "Link cell types to the file record:"
   ]
  },
  {
   "cell_type": "code",
   "execution_count": null,
   "metadata": {},
   "outputs": [],
   "source": [
    "file_annotated.cell_types.set(celltypes)"
   ]
  },
  {
   "attachments": {},
   "cell_type": "markdown",
   "metadata": {},
   "source": [
    "Now we can track the file and search for it for example by querying for a specific cell type."
   ]
  },
  {
   "cell_type": "code",
   "execution_count": null,
   "metadata": {},
   "outputs": [],
   "source": [
    "ln.select(ln.File).filter(cell_types=db_lookup.tcm_naive_helper_t_cells).df()"
   ]
  },
  {
   "attachments": {},
   "cell_type": "markdown",
   "metadata": {},
   "source": [
    "Or track in which notebook the file is annotated by celltypist:"
   ]
  },
  {
   "cell_type": "code",
   "execution_count": null,
   "metadata": {},
   "outputs": [],
   "source": [
    "ln.select(ln.Transform).filter(files__name__icontains=\"celltypist\").df()"
   ]
  },
  {
   "attachments": {},
   "cell_type": "markdown",
   "metadata": {},
   "source": [
    "## Conclusion"
   ]
  },
  {
   "attachments": {},
   "cell_type": "markdown",
   "metadata": {},
   "source": [
    "Lamin makes it easy to annotate cell types with ontology information and to track any datasets with such annotated cell types.\n",
    "It does not matter whether the cell types where already a part of an ontology or newly found - Lamin supports both use-cases."
   ]
  },
  {
   "attachments": {},
   "cell_type": "markdown",
   "metadata": {},
   "source": [
    "## Try it yourself"
   ]
  },
  {
   "attachments": {},
   "cell_type": "markdown",
   "metadata": {},
   "source": [
    "This notebook is available at [https://github.com/laminlabs/lamin-examples](https://github.com/laminlabs/lamin-examples)."
   ]
  }
 ],
 "metadata": {
  "citation-manager": {
   "items": {}
  },
  "kernelspec": {
   "display_name": "Python 3 (ipykernel)",
   "language": "python",
   "name": "python3"
  },
  "language_info": {
   "codemirror_mode": {
    "name": "ipython",
    "version": 3
   },
   "file_extension": ".py",
   "mimetype": "text/x-python",
   "name": "python",
   "nbconvert_exporter": "python",
   "pygments_lexer": "ipython3",
   "version": "3.9.16"
  },
  "nbproject": {
   "id": "s5mkN5NQ1ttI",
   "parent": null,
   "pypackage": null,
   "time_init": "2023-05-29T10:25:04.851133+00:00",
   "user_handle": "sunnyosun",
   "user_id": "kmvZDIX9",
   "user_name": "Sunny Sun",
   "version": "0"
  }
 },
 "nbformat": 4,
 "nbformat_minor": 4
}
